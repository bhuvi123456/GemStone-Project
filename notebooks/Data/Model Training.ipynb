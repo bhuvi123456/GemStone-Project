{
 "cells": [
  {
   "cell_type": "code",
   "execution_count": 96,
   "metadata": {},
   "outputs": [],
   "source": [
    "import pandas as pd\n",
    "df = pd.read_csv(\"GemStone.csv\")"
   ]
  },
  {
   "cell_type": "code",
   "execution_count": 97,
   "metadata": {},
   "outputs": [
    {
     "data": {
      "text/html": [
       "<div>\n",
       "<style scoped>\n",
       "    .dataframe tbody tr th:only-of-type {\n",
       "        vertical-align: middle;\n",
       "    }\n",
       "\n",
       "    .dataframe tbody tr th {\n",
       "        vertical-align: top;\n",
       "    }\n",
       "\n",
       "    .dataframe thead th {\n",
       "        text-align: right;\n",
       "    }\n",
       "</style>\n",
       "<table border=\"1\" class=\"dataframe\">\n",
       "  <thead>\n",
       "    <tr style=\"text-align: right;\">\n",
       "      <th></th>\n",
       "      <th>Unnamed: 0</th>\n",
       "      <th>carat</th>\n",
       "      <th>cut</th>\n",
       "      <th>color</th>\n",
       "      <th>clarity</th>\n",
       "      <th>depth</th>\n",
       "      <th>table</th>\n",
       "      <th>x</th>\n",
       "      <th>y</th>\n",
       "      <th>z</th>\n",
       "      <th>price</th>\n",
       "    </tr>\n",
       "  </thead>\n",
       "  <tbody>\n",
       "    <tr>\n",
       "      <th>0</th>\n",
       "      <td>1</td>\n",
       "      <td>0.30</td>\n",
       "      <td>Ideal</td>\n",
       "      <td>E</td>\n",
       "      <td>SI1</td>\n",
       "      <td>62.1</td>\n",
       "      <td>58.0</td>\n",
       "      <td>4.27</td>\n",
       "      <td>4.29</td>\n",
       "      <td>2.66</td>\n",
       "      <td>499</td>\n",
       "    </tr>\n",
       "    <tr>\n",
       "      <th>1</th>\n",
       "      <td>2</td>\n",
       "      <td>0.33</td>\n",
       "      <td>Premium</td>\n",
       "      <td>G</td>\n",
       "      <td>IF</td>\n",
       "      <td>60.8</td>\n",
       "      <td>58.0</td>\n",
       "      <td>4.42</td>\n",
       "      <td>4.46</td>\n",
       "      <td>2.70</td>\n",
       "      <td>984</td>\n",
       "    </tr>\n",
       "    <tr>\n",
       "      <th>2</th>\n",
       "      <td>3</td>\n",
       "      <td>0.90</td>\n",
       "      <td>Very Good</td>\n",
       "      <td>E</td>\n",
       "      <td>VVS2</td>\n",
       "      <td>62.2</td>\n",
       "      <td>60.0</td>\n",
       "      <td>6.04</td>\n",
       "      <td>6.12</td>\n",
       "      <td>3.78</td>\n",
       "      <td>6289</td>\n",
       "    </tr>\n",
       "    <tr>\n",
       "      <th>3</th>\n",
       "      <td>4</td>\n",
       "      <td>0.42</td>\n",
       "      <td>Ideal</td>\n",
       "      <td>F</td>\n",
       "      <td>VS1</td>\n",
       "      <td>61.6</td>\n",
       "      <td>56.0</td>\n",
       "      <td>4.82</td>\n",
       "      <td>4.80</td>\n",
       "      <td>2.96</td>\n",
       "      <td>1082</td>\n",
       "    </tr>\n",
       "    <tr>\n",
       "      <th>4</th>\n",
       "      <td>5</td>\n",
       "      <td>0.31</td>\n",
       "      <td>Ideal</td>\n",
       "      <td>F</td>\n",
       "      <td>VVS1</td>\n",
       "      <td>60.4</td>\n",
       "      <td>59.0</td>\n",
       "      <td>4.35</td>\n",
       "      <td>4.43</td>\n",
       "      <td>2.65</td>\n",
       "      <td>779</td>\n",
       "    </tr>\n",
       "  </tbody>\n",
       "</table>\n",
       "</div>"
      ],
      "text/plain": [
       "   Unnamed: 0  carat        cut color clarity  depth  table     x     y     z  \\\n",
       "0           1   0.30      Ideal     E     SI1   62.1   58.0  4.27  4.29  2.66   \n",
       "1           2   0.33    Premium     G      IF   60.8   58.0  4.42  4.46  2.70   \n",
       "2           3   0.90  Very Good     E    VVS2   62.2   60.0  6.04  6.12  3.78   \n",
       "3           4   0.42      Ideal     F     VS1   61.6   56.0  4.82  4.80  2.96   \n",
       "4           5   0.31      Ideal     F    VVS1   60.4   59.0  4.35  4.43  2.65   \n",
       "\n",
       "   price  \n",
       "0    499  \n",
       "1    984  \n",
       "2   6289  \n",
       "3   1082  \n",
       "4    779  "
      ]
     },
     "execution_count": 97,
     "metadata": {},
     "output_type": "execute_result"
    }
   ],
   "source": [
    "df.head()"
   ]
  },
  {
   "cell_type": "code",
   "execution_count": 98,
   "metadata": {},
   "outputs": [],
   "source": [
    "df = df.drop(columns = ['Unnamed: 0'],axis = 1)"
   ]
  },
  {
   "cell_type": "code",
   "execution_count": 99,
   "metadata": {},
   "outputs": [
    {
     "data": {
      "text/plain": [
       "np.int64(34)"
      ]
     },
     "execution_count": 99,
     "metadata": {},
     "output_type": "execute_result"
    }
   ],
   "source": [
    "df.duplicated().sum()"
   ]
  },
  {
   "cell_type": "code",
   "execution_count": 100,
   "metadata": {},
   "outputs": [],
   "source": [
    "df = df.drop_duplicates()"
   ]
  },
  {
   "cell_type": "code",
   "execution_count": 66,
   "metadata": {},
   "outputs": [
    {
     "data": {
      "text/plain": [
       "np.int64(0)"
      ]
     },
     "execution_count": 66,
     "metadata": {},
     "output_type": "execute_result"
    }
   ],
   "source": [
    "df.duplicated().sum()"
   ]
  },
  {
   "cell_type": "code",
   "execution_count": 101,
   "metadata": {},
   "outputs": [],
   "source": [
    "df = df.drop(columns =['x','y','z','depth'])"
   ]
  },
  {
   "cell_type": "code",
   "execution_count": 102,
   "metadata": {},
   "outputs": [
    {
     "name": "stdout",
     "output_type": "stream",
     "text": [
      "num_features: ['carat', 'table']\n"
     ]
    }
   ],
   "source": [
    "num_features = df.select_dtypes(exclude = 'O').columns.drop('price')\n",
    "print('num_features:',list(num_features))"
   ]
  },
  {
   "cell_type": "code",
   "execution_count": 103,
   "metadata": {},
   "outputs": [
    {
     "name": "stdout",
     "output_type": "stream",
     "text": [
      "cat features: ['cut', 'color', 'clarity']\n"
     ]
    }
   ],
   "source": [
    "cat_features = [features for features in df.columns if df[features].dtype == 'O']\n",
    "print(\"cat features:\",cat_features)"
   ]
  },
  {
   "cell_type": "code",
   "execution_count": 104,
   "metadata": {},
   "outputs": [],
   "source": [
    "from sklearn.impute import SimpleImputer #uses to fill null values\n",
    "from sklearn.preprocessing import StandardScaler,OrdinalEncoder\n",
    "from sklearn.compose import ColumnTransformer\n",
    "from sklearn.pipeline import Pipeline  #To Combine Multtiple Steps"
   ]
  },
  {
   "cell_type": "code",
   "execution_count": 105,
   "metadata": {},
   "outputs": [],
   "source": [
    "#To perform ordinal encoding we need to perform based on ranking \n",
    "cut_categories = ['Fair','Good','Very Good','Premium','Ideal']\n",
    "color_categories = ['D','E','F','G','H','I','J']\n",
    "clarity_categories = ['I1','SI2','SI1','VS2','VS1','VVS2','VVS1','IF']"
   ]
  },
  {
   "cell_type": "code",
   "execution_count": 106,
   "metadata": {},
   "outputs": [],
   "source": [
    "#Numeric Categories\n",
    "numeric_pipeline = Pipeline(\n",
    "    [\n",
    "        (\"SimpleImputer:\",SimpleImputer(strategy='median')),\n",
    "        (\"Scaler:\",StandardScaler())\n",
    "    ]\n",
    ")"
   ]
  },
  {
   "cell_type": "code",
   "execution_count": 107,
   "metadata": {},
   "outputs": [],
   "source": [
    "categoric_pipeline = Pipeline(\n",
    "    [\n",
    "        ('SimpleImputer:',SimpleImputer(strategy = 'most_frequent')),\n",
    "        ('OrdinalEncoder:',OrdinalEncoder(categories=[cut_categories,color_categories,clarity_categories])),\n",
    "        (\"StandardScaler:\",StandardScaler()) #we are Performing scaling also because if i have 10 different data's in my \n",
    "        #categorical variable ten i will have ranking from 1 to 10 then to increase accuracy we use scaling to make it from 0 to 1\n",
    "    ]\n",
    ")"
   ]
  },
  {
   "cell_type": "code",
   "execution_count": 112,
   "metadata": {},
   "outputs": [],
   "source": [
    "preprocessor = ColumnTransformer(\n",
    "    [\n",
    "        (\"numeric_pipeline:\",numeric_pipeline,num_features),\n",
    "        (\"categoric_pipeline:\", categoric_pipeline,cat_features)\n",
    "        ]\n",
    ")"
   ]
  },
  {
   "cell_type": "code",
   "execution_count": 113,
   "metadata": {},
   "outputs": [
    {
     "name": "stdout",
     "output_type": "stream",
     "text": [
      "ColumnTransformer(transformers=[('numeric_pipeline:',\n",
      "                                 Pipeline(steps=[('SimpleImputer:',\n",
      "                                                  SimpleImputer(strategy='median')),\n",
      "                                                 ('Scaler:',\n",
      "                                                  StandardScaler())]),\n",
      "                                 Index(['carat', 'table'], dtype='object')),\n",
      "                                ('categoric_pipeline:',\n",
      "                                 Pipeline(steps=[('SimpleImputer:',\n",
      "                                                  SimpleImputer(strategy='most_frequent')),\n",
      "                                                 ('OrdinalEncoder:',\n",
      "                                                  OrdinalEncoder(categories=[['Fair',\n",
      "                                                                              'Good',\n",
      "                                                                              'Very '\n",
      "                                                                              'Good',\n",
      "                                                                              'Premium',\n",
      "                                                                              'Ideal'],\n",
      "                                                                             ['D',\n",
      "                                                                              'E',\n",
      "                                                                              'F',\n",
      "                                                                              'G',\n",
      "                                                                              'H',\n",
      "                                                                              'I',\n",
      "                                                                              'J'],\n",
      "                                                                             ['I1',\n",
      "                                                                              'SI2',\n",
      "                                                                              'SI1',\n",
      "                                                                              'VS2',\n",
      "                                                                              'VS1',\n",
      "                                                                              'VVS2',\n",
      "                                                                              'VVS1',\n",
      "                                                                              'IF']])),\n",
      "                                                 ('StandardScaler:',\n",
      "                                                  StandardScaler())]),\n",
      "                                 ['cut', 'color', 'clarity'])])\n"
     ]
    }
   ],
   "source": [
    "print(preprocessor)"
   ]
  },
  {
   "cell_type": "code",
   "execution_count": 109,
   "metadata": {},
   "outputs": [],
   "source": [
    "x = df.drop(columns=[\"price\"],axis = 1)\n",
    "y = df['price']"
   ]
  },
  {
   "cell_type": "code",
   "execution_count": 44,
   "metadata": {},
   "outputs": [
    {
     "data": {
      "text/html": [
       "<div>\n",
       "<style scoped>\n",
       "    .dataframe tbody tr th:only-of-type {\n",
       "        vertical-align: middle;\n",
       "    }\n",
       "\n",
       "    .dataframe tbody tr th {\n",
       "        vertical-align: top;\n",
       "    }\n",
       "\n",
       "    .dataframe thead th {\n",
       "        text-align: right;\n",
       "    }\n",
       "</style>\n",
       "<table border=\"1\" class=\"dataframe\">\n",
       "  <thead>\n",
       "    <tr style=\"text-align: right;\">\n",
       "      <th></th>\n",
       "      <th>carat</th>\n",
       "      <th>cut</th>\n",
       "      <th>color</th>\n",
       "      <th>clarity</th>\n",
       "      <th>table</th>\n",
       "    </tr>\n",
       "  </thead>\n",
       "  <tbody>\n",
       "    <tr>\n",
       "      <th>0</th>\n",
       "      <td>0.30</td>\n",
       "      <td>Ideal</td>\n",
       "      <td>E</td>\n",
       "      <td>SI1</td>\n",
       "      <td>58.0</td>\n",
       "    </tr>\n",
       "    <tr>\n",
       "      <th>1</th>\n",
       "      <td>0.33</td>\n",
       "      <td>Premium</td>\n",
       "      <td>G</td>\n",
       "      <td>IF</td>\n",
       "      <td>58.0</td>\n",
       "    </tr>\n",
       "    <tr>\n",
       "      <th>2</th>\n",
       "      <td>0.90</td>\n",
       "      <td>Very Good</td>\n",
       "      <td>E</td>\n",
       "      <td>VVS2</td>\n",
       "      <td>60.0</td>\n",
       "    </tr>\n",
       "    <tr>\n",
       "      <th>3</th>\n",
       "      <td>0.42</td>\n",
       "      <td>Ideal</td>\n",
       "      <td>F</td>\n",
       "      <td>VS1</td>\n",
       "      <td>56.0</td>\n",
       "    </tr>\n",
       "    <tr>\n",
       "      <th>4</th>\n",
       "      <td>0.31</td>\n",
       "      <td>Ideal</td>\n",
       "      <td>F</td>\n",
       "      <td>VVS1</td>\n",
       "      <td>59.0</td>\n",
       "    </tr>\n",
       "    <tr>\n",
       "      <th>...</th>\n",
       "      <td>...</td>\n",
       "      <td>...</td>\n",
       "      <td>...</td>\n",
       "      <td>...</td>\n",
       "      <td>...</td>\n",
       "    </tr>\n",
       "    <tr>\n",
       "      <th>26962</th>\n",
       "      <td>1.11</td>\n",
       "      <td>Premium</td>\n",
       "      <td>G</td>\n",
       "      <td>SI1</td>\n",
       "      <td>58.0</td>\n",
       "    </tr>\n",
       "    <tr>\n",
       "      <th>26963</th>\n",
       "      <td>0.33</td>\n",
       "      <td>Ideal</td>\n",
       "      <td>H</td>\n",
       "      <td>IF</td>\n",
       "      <td>55.0</td>\n",
       "    </tr>\n",
       "    <tr>\n",
       "      <th>26964</th>\n",
       "      <td>0.51</td>\n",
       "      <td>Premium</td>\n",
       "      <td>E</td>\n",
       "      <td>VS2</td>\n",
       "      <td>58.0</td>\n",
       "    </tr>\n",
       "    <tr>\n",
       "      <th>26965</th>\n",
       "      <td>0.27</td>\n",
       "      <td>Very Good</td>\n",
       "      <td>F</td>\n",
       "      <td>VVS2</td>\n",
       "      <td>56.0</td>\n",
       "    </tr>\n",
       "    <tr>\n",
       "      <th>26966</th>\n",
       "      <td>1.25</td>\n",
       "      <td>Premium</td>\n",
       "      <td>J</td>\n",
       "      <td>SI1</td>\n",
       "      <td>58.0</td>\n",
       "    </tr>\n",
       "  </tbody>\n",
       "</table>\n",
       "<p>26933 rows × 5 columns</p>\n",
       "</div>"
      ],
      "text/plain": [
       "       carat        cut color clarity  table\n",
       "0       0.30      Ideal     E     SI1   58.0\n",
       "1       0.33    Premium     G      IF   58.0\n",
       "2       0.90  Very Good     E    VVS2   60.0\n",
       "3       0.42      Ideal     F     VS1   56.0\n",
       "4       0.31      Ideal     F    VVS1   59.0\n",
       "...      ...        ...   ...     ...    ...\n",
       "26962   1.11    Premium     G     SI1   58.0\n",
       "26963   0.33      Ideal     H      IF   55.0\n",
       "26964   0.51    Premium     E     VS2   58.0\n",
       "26965   0.27  Very Good     F    VVS2   56.0\n",
       "26966   1.25    Premium     J     SI1   58.0\n",
       "\n",
       "[26933 rows x 5 columns]"
      ]
     },
     "execution_count": 44,
     "metadata": {},
     "output_type": "execute_result"
    }
   ],
   "source": [
    "x"
   ]
  },
  {
   "cell_type": "code",
   "execution_count": 45,
   "metadata": {},
   "outputs": [
    {
     "data": {
      "text/plain": [
       "carat      0\n",
       "cut        0\n",
       "color      0\n",
       "clarity    0\n",
       "table      0\n",
       "dtype: int64"
      ]
     },
     "execution_count": 45,
     "metadata": {},
     "output_type": "execute_result"
    }
   ],
   "source": [
    "x.isnull().sum()"
   ]
  },
  {
   "cell_type": "code",
   "execution_count": 114,
   "metadata": {},
   "outputs": [],
   "source": [
    "from sklearn.model_selection import train_test_split\n",
    "x_train,x_test,y_train,y_test = train_test_split(x,y,test_size = 0.25,random_state = 42)"
   ]
  },
  {
   "cell_type": "code",
   "execution_count": 115,
   "metadata": {},
   "outputs": [
    {
     "data": {
      "text/plain": [
       "(20199, 5)"
      ]
     },
     "execution_count": 115,
     "metadata": {},
     "output_type": "execute_result"
    }
   ],
   "source": [
    "x_train.shape"
   ]
  },
  {
   "cell_type": "code",
   "execution_count": 119,
   "metadata": {},
   "outputs": [
    {
     "data": {
      "text/html": [
       "<div>\n",
       "<style scoped>\n",
       "    .dataframe tbody tr th:only-of-type {\n",
       "        vertical-align: middle;\n",
       "    }\n",
       "\n",
       "    .dataframe tbody tr th {\n",
       "        vertical-align: top;\n",
       "    }\n",
       "\n",
       "    .dataframe thead th {\n",
       "        text-align: right;\n",
       "    }\n",
       "</style>\n",
       "<table border=\"1\" class=\"dataframe\">\n",
       "  <thead>\n",
       "    <tr style=\"text-align: right;\">\n",
       "      <th></th>\n",
       "      <th>numeric_pipeline:__carat</th>\n",
       "      <th>numeric_pipeline:__table</th>\n",
       "      <th>categoric_pipeline:__cut</th>\n",
       "      <th>categoric_pipeline:__color</th>\n",
       "      <th>categoric_pipeline:__clarity</th>\n",
       "    </tr>\n",
       "  </thead>\n",
       "  <tbody>\n",
       "    <tr>\n",
       "      <th>0</th>\n",
       "      <td>-0.543717</td>\n",
       "      <td>-0.657759</td>\n",
       "      <td>0.983195</td>\n",
       "      <td>0.230035</td>\n",
       "      <td>1.781373</td>\n",
       "    </tr>\n",
       "    <tr>\n",
       "      <th>1</th>\n",
       "      <td>-0.585546</td>\n",
       "      <td>-1.105275</td>\n",
       "      <td>0.983195</td>\n",
       "      <td>0.230035</td>\n",
       "      <td>-1.249145</td>\n",
       "    </tr>\n",
       "    <tr>\n",
       "      <th>2</th>\n",
       "      <td>0.209209</td>\n",
       "      <td>-0.210243</td>\n",
       "      <td>0.983195</td>\n",
       "      <td>1.992736</td>\n",
       "      <td>2.387476</td>\n",
       "    </tr>\n",
       "    <tr>\n",
       "      <th>3</th>\n",
       "      <td>0.020978</td>\n",
       "      <td>-1.105275</td>\n",
       "      <td>-1.712795</td>\n",
       "      <td>-1.532666</td>\n",
       "      <td>-1.249145</td>\n",
       "    </tr>\n",
       "    <tr>\n",
       "      <th>4</th>\n",
       "      <td>-1.045668</td>\n",
       "      <td>-0.657759</td>\n",
       "      <td>0.983195</td>\n",
       "      <td>0.230035</td>\n",
       "      <td>1.781373</td>\n",
       "    </tr>\n",
       "    <tr>\n",
       "      <th>...</th>\n",
       "      <td>...</td>\n",
       "      <td>...</td>\n",
       "      <td>...</td>\n",
       "      <td>...</td>\n",
       "      <td>...</td>\n",
       "    </tr>\n",
       "    <tr>\n",
       "      <th>20194</th>\n",
       "      <td>-0.606461</td>\n",
       "      <td>-1.105275</td>\n",
       "      <td>0.983195</td>\n",
       "      <td>-0.945099</td>\n",
       "      <td>-0.643042</td>\n",
       "    </tr>\n",
       "    <tr>\n",
       "      <th>20195</th>\n",
       "      <td>-0.773778</td>\n",
       "      <td>-1.552792</td>\n",
       "      <td>0.983195</td>\n",
       "      <td>0.230035</td>\n",
       "      <td>2.387476</td>\n",
       "    </tr>\n",
       "    <tr>\n",
       "      <th>20196</th>\n",
       "      <td>-0.857436</td>\n",
       "      <td>-0.657759</td>\n",
       "      <td>0.983195</td>\n",
       "      <td>0.230035</td>\n",
       "      <td>1.781373</td>\n",
       "    </tr>\n",
       "    <tr>\n",
       "      <th>20197</th>\n",
       "      <td>-1.003838</td>\n",
       "      <td>-0.210243</td>\n",
       "      <td>0.983195</td>\n",
       "      <td>-0.357532</td>\n",
       "      <td>1.175269</td>\n",
       "    </tr>\n",
       "    <tr>\n",
       "      <th>20198</th>\n",
       "      <td>-0.627375</td>\n",
       "      <td>1.132305</td>\n",
       "      <td>-1.712795</td>\n",
       "      <td>-1.532666</td>\n",
       "      <td>-1.249145</td>\n",
       "    </tr>\n",
       "  </tbody>\n",
       "</table>\n",
       "<p>20199 rows × 5 columns</p>\n",
       "</div>"
      ],
      "text/plain": [
       "       numeric_pipeline:__carat  numeric_pipeline:__table  \\\n",
       "0                     -0.543717                 -0.657759   \n",
       "1                     -0.585546                 -1.105275   \n",
       "2                      0.209209                 -0.210243   \n",
       "3                      0.020978                 -1.105275   \n",
       "4                     -1.045668                 -0.657759   \n",
       "...                         ...                       ...   \n",
       "20194                 -0.606461                 -1.105275   \n",
       "20195                 -0.773778                 -1.552792   \n",
       "20196                 -0.857436                 -0.657759   \n",
       "20197                 -1.003838                 -0.210243   \n",
       "20198                 -0.627375                  1.132305   \n",
       "\n",
       "       categoric_pipeline:__cut  categoric_pipeline:__color  \\\n",
       "0                      0.983195                    0.230035   \n",
       "1                      0.983195                    0.230035   \n",
       "2                      0.983195                    1.992736   \n",
       "3                     -1.712795                   -1.532666   \n",
       "4                      0.983195                    0.230035   \n",
       "...                         ...                         ...   \n",
       "20194                  0.983195                   -0.945099   \n",
       "20195                  0.983195                    0.230035   \n",
       "20196                  0.983195                    0.230035   \n",
       "20197                  0.983195                   -0.357532   \n",
       "20198                 -1.712795                   -1.532666   \n",
       "\n",
       "       categoric_pipeline:__clarity  \n",
       "0                          1.781373  \n",
       "1                         -1.249145  \n",
       "2                          2.387476  \n",
       "3                         -1.249145  \n",
       "4                          1.781373  \n",
       "...                             ...  \n",
       "20194                     -0.643042  \n",
       "20195                      2.387476  \n",
       "20196                      1.781373  \n",
       "20197                      1.175269  \n",
       "20198                     -1.249145  \n",
       "\n",
       "[20199 rows x 5 columns]"
      ]
     },
     "execution_count": 119,
     "metadata": {},
     "output_type": "execute_result"
    }
   ],
   "source": [
    "x_train = pd.DataFrame(preprocessor.fit_transform(x_train),columns = preprocessor.get_feature_names_out())\n",
    "x_train"
   ]
  },
  {
   "cell_type": "code",
   "execution_count": 120,
   "metadata": {},
   "outputs": [
    {
     "data": {
      "text/html": [
       "<div>\n",
       "<style scoped>\n",
       "    .dataframe tbody tr th:only-of-type {\n",
       "        vertical-align: middle;\n",
       "    }\n",
       "\n",
       "    .dataframe tbody tr th {\n",
       "        vertical-align: top;\n",
       "    }\n",
       "\n",
       "    .dataframe thead th {\n",
       "        text-align: right;\n",
       "    }\n",
       "</style>\n",
       "<table border=\"1\" class=\"dataframe\">\n",
       "  <thead>\n",
       "    <tr style=\"text-align: right;\">\n",
       "      <th></th>\n",
       "      <th>carat</th>\n",
       "      <th>cut</th>\n",
       "      <th>color</th>\n",
       "      <th>clarity</th>\n",
       "      <th>table</th>\n",
       "    </tr>\n",
       "  </thead>\n",
       "  <tbody>\n",
       "    <tr>\n",
       "      <th>3916</th>\n",
       "      <td>0.41</td>\n",
       "      <td>Premium</td>\n",
       "      <td>G</td>\n",
       "      <td>VS2</td>\n",
       "      <td>59.0</td>\n",
       "    </tr>\n",
       "    <tr>\n",
       "      <th>10439</th>\n",
       "      <td>0.31</td>\n",
       "      <td>Very Good</td>\n",
       "      <td>I</td>\n",
       "      <td>VVS1</td>\n",
       "      <td>60.0</td>\n",
       "    </tr>\n",
       "    <tr>\n",
       "      <th>24237</th>\n",
       "      <td>0.41</td>\n",
       "      <td>Ideal</td>\n",
       "      <td>J</td>\n",
       "      <td>VS2</td>\n",
       "      <td>55.0</td>\n",
       "    </tr>\n",
       "    <tr>\n",
       "      <th>9590</th>\n",
       "      <td>0.27</td>\n",
       "      <td>Very Good</td>\n",
       "      <td>E</td>\n",
       "      <td>VVS2</td>\n",
       "      <td>61.0</td>\n",
       "    </tr>\n",
       "    <tr>\n",
       "      <th>7451</th>\n",
       "      <td>1.24</td>\n",
       "      <td>Premium</td>\n",
       "      <td>D</td>\n",
       "      <td>SI1</td>\n",
       "      <td>59.0</td>\n",
       "    </tr>\n",
       "    <tr>\n",
       "      <th>...</th>\n",
       "      <td>...</td>\n",
       "      <td>...</td>\n",
       "      <td>...</td>\n",
       "      <td>...</td>\n",
       "      <td>...</td>\n",
       "    </tr>\n",
       "    <tr>\n",
       "      <th>13977</th>\n",
       "      <td>0.37</td>\n",
       "      <td>Ideal</td>\n",
       "      <td>D</td>\n",
       "      <td>VS2</td>\n",
       "      <td>56.0</td>\n",
       "    </tr>\n",
       "    <tr>\n",
       "      <th>6426</th>\n",
       "      <td>0.32</td>\n",
       "      <td>Premium</td>\n",
       "      <td>H</td>\n",
       "      <td>VS2</td>\n",
       "      <td>58.0</td>\n",
       "    </tr>\n",
       "    <tr>\n",
       "      <th>3168</th>\n",
       "      <td>0.51</td>\n",
       "      <td>Ideal</td>\n",
       "      <td>D</td>\n",
       "      <td>VS1</td>\n",
       "      <td>54.0</td>\n",
       "    </tr>\n",
       "    <tr>\n",
       "      <th>23159</th>\n",
       "      <td>0.31</td>\n",
       "      <td>Ideal</td>\n",
       "      <td>G</td>\n",
       "      <td>VS2</td>\n",
       "      <td>57.0</td>\n",
       "    </tr>\n",
       "    <tr>\n",
       "      <th>25444</th>\n",
       "      <td>1.13</td>\n",
       "      <td>Ideal</td>\n",
       "      <td>J</td>\n",
       "      <td>SI2</td>\n",
       "      <td>56.0</td>\n",
       "    </tr>\n",
       "  </tbody>\n",
       "</table>\n",
       "<p>6734 rows × 5 columns</p>\n",
       "</div>"
      ],
      "text/plain": [
       "       carat        cut color clarity  table\n",
       "3916    0.41    Premium     G     VS2   59.0\n",
       "10439   0.31  Very Good     I    VVS1   60.0\n",
       "24237   0.41      Ideal     J     VS2   55.0\n",
       "9590    0.27  Very Good     E    VVS2   61.0\n",
       "7451    1.24    Premium     D     SI1   59.0\n",
       "...      ...        ...   ...     ...    ...\n",
       "13977   0.37      Ideal     D     VS2   56.0\n",
       "6426    0.32    Premium     H     VS2   58.0\n",
       "3168    0.51      Ideal     D     VS1   54.0\n",
       "23159   0.31      Ideal     G     VS2   57.0\n",
       "25444   1.13      Ideal     J     SI2   56.0\n",
       "\n",
       "[6734 rows x 5 columns]"
      ]
     },
     "execution_count": 120,
     "metadata": {},
     "output_type": "execute_result"
    }
   ],
   "source": [
    "x_test"
   ]
  },
  {
   "cell_type": "code",
   "execution_count": 122,
   "metadata": {},
   "outputs": [],
   "source": [
    "x_test = pd.DataFrame(preprocessor.transform(x_test),columns = preprocessor.get_feature_names_out())"
   ]
  },
  {
   "cell_type": "code",
   "execution_count": 123,
   "metadata": {},
   "outputs": [
    {
     "data": {
      "text/html": [
       "<div>\n",
       "<style scoped>\n",
       "    .dataframe tbody tr th:only-of-type {\n",
       "        vertical-align: middle;\n",
       "    }\n",
       "\n",
       "    .dataframe tbody tr th {\n",
       "        vertical-align: top;\n",
       "    }\n",
       "\n",
       "    .dataframe thead th {\n",
       "        text-align: right;\n",
       "    }\n",
       "</style>\n",
       "<table border=\"1\" class=\"dataframe\">\n",
       "  <thead>\n",
       "    <tr style=\"text-align: right;\">\n",
       "      <th></th>\n",
       "      <th>numeric_pipeline:__carat</th>\n",
       "      <th>numeric_pipeline:__table</th>\n",
       "      <th>categoric_pipeline:__cut</th>\n",
       "      <th>categoric_pipeline:__color</th>\n",
       "      <th>categoric_pipeline:__clarity</th>\n",
       "    </tr>\n",
       "  </thead>\n",
       "  <tbody>\n",
       "    <tr>\n",
       "      <th>0</th>\n",
       "      <td>-0.815607</td>\n",
       "      <td>0.684789</td>\n",
       "      <td>0.084532</td>\n",
       "      <td>0.230035</td>\n",
       "      <td>-0.036938</td>\n",
       "    </tr>\n",
       "    <tr>\n",
       "      <th>1</th>\n",
       "      <td>-1.024753</td>\n",
       "      <td>1.132305</td>\n",
       "      <td>-0.814131</td>\n",
       "      <td>1.405169</td>\n",
       "      <td>1.781373</td>\n",
       "    </tr>\n",
       "    <tr>\n",
       "      <th>2</th>\n",
       "      <td>-0.815607</td>\n",
       "      <td>-1.105275</td>\n",
       "      <td>0.983195</td>\n",
       "      <td>1.992736</td>\n",
       "      <td>-0.036938</td>\n",
       "    </tr>\n",
       "    <tr>\n",
       "      <th>3</th>\n",
       "      <td>-1.108412</td>\n",
       "      <td>1.579821</td>\n",
       "      <td>-0.814131</td>\n",
       "      <td>-0.945099</td>\n",
       "      <td>1.175269</td>\n",
       "    </tr>\n",
       "    <tr>\n",
       "      <th>4</th>\n",
       "      <td>0.920306</td>\n",
       "      <td>0.684789</td>\n",
       "      <td>0.084532</td>\n",
       "      <td>-1.532666</td>\n",
       "      <td>-0.643042</td>\n",
       "    </tr>\n",
       "  </tbody>\n",
       "</table>\n",
       "</div>"
      ],
      "text/plain": [
       "   numeric_pipeline:__carat  numeric_pipeline:__table  \\\n",
       "0                 -0.815607                  0.684789   \n",
       "1                 -1.024753                  1.132305   \n",
       "2                 -0.815607                 -1.105275   \n",
       "3                 -1.108412                  1.579821   \n",
       "4                  0.920306                  0.684789   \n",
       "\n",
       "   categoric_pipeline:__cut  categoric_pipeline:__color  \\\n",
       "0                  0.084532                    0.230035   \n",
       "1                 -0.814131                    1.405169   \n",
       "2                  0.983195                    1.992736   \n",
       "3                 -0.814131                   -0.945099   \n",
       "4                  0.084532                   -1.532666   \n",
       "\n",
       "   categoric_pipeline:__clarity  \n",
       "0                     -0.036938  \n",
       "1                      1.781373  \n",
       "2                     -0.036938  \n",
       "3                      1.175269  \n",
       "4                     -0.643042  "
      ]
     },
     "execution_count": 123,
     "metadata": {},
     "output_type": "execute_result"
    }
   ],
   "source": [
    "x_test.head()"
   ]
  },
  {
   "cell_type": "code",
   "execution_count": 89,
   "metadata": {},
   "outputs": [
    {
     "data": {
      "text/plain": [
       "carat      0\n",
       "cut        0\n",
       "color      0\n",
       "clarity    0\n",
       "table      0\n",
       "dtype: int64"
      ]
     },
     "execution_count": 89,
     "metadata": {},
     "output_type": "execute_result"
    }
   ],
   "source": [
    "x_train.isnull().sum()"
   ]
  },
  {
   "cell_type": "code",
   "execution_count": 70,
   "metadata": {},
   "outputs": [],
   "source": [
    "from sklearn.linear_model import LinearRegression,Ridge,Lasso,ElasticNet\n",
    "from sklearn.metrics import r2_score,mean_absolute_error,mean_squared_error"
   ]
  },
  {
   "cell_type": "code",
   "execution_count": 71,
   "metadata": {},
   "outputs": [],
   "source": [
    "linear = LinearRegression()\n",
    "ridge = Ridge()\n",
    "lasso = Lasso()\n",
    "elastic = ElasticNet()"
   ]
  },
  {
   "cell_type": "code",
   "execution_count": 81,
   "metadata": {},
   "outputs": [
    {
     "name": "stdout",
     "output_type": "stream",
     "text": [
      "Slope:,[4211.03201747  -36.0706491   160.48486712 -557.67741318  858.22306872]\n",
      "intercept: 3948.8576167136994\n"
     ]
    }
   ],
   "source": [
    "linear.fit(x_train,y_train)\n",
    "print(\"Slope:\",linear.coef_, sep = ',')\n",
    "print(\"intercept:\",linear.intercept_)"
   ]
  },
  {
   "cell_type": "code",
   "execution_count": 124,
   "metadata": {},
   "outputs": [],
   "source": [
    "y_pred = linear.predict(x_test)"
   ]
  },
  {
   "cell_type": "code",
   "execution_count": 127,
   "metadata": {},
   "outputs": [],
   "source": [
    "import numpy as np\n",
    "def evalute_model(y_test,y_pred):\n",
    "    mae = mean_absolute_error(y_test,y_pred)\n",
    "    mse = mean_squared_error(y_test,y_pred)\n",
    "    rmse = np.sqrt(mse)\n",
    "    r2 = r2_score(y_test,y_pred)\n",
    "    return mae,mse,rmse,r2"
   ]
  },
  {
   "cell_type": "code",
   "execution_count": 142,
   "metadata": {},
   "outputs": [
    {
     "name": "stdout",
     "output_type": "stream",
     "text": [
      "ridge\n",
      "rmse: 1249.9142772066668\n",
      "mae: 869.1441329672422\n",
      "mse: 1562285.7003650642\n",
      "r2_score: 90.4161 percentage\n",
      "\n",
      "------------------------------\n",
      "\n",
      "lasso\n",
      "rmse: 1249.935411110729\n",
      "mae: 868.7717876580706\n",
      "mse: 1562338.531948547\n",
      "r2_score: 90.4158 percentage\n",
      "\n",
      "------------------------------\n",
      "\n",
      "elasticnet\n",
      "rmse: 1961.86204500826\n",
      "mae: 1315.5978132874639\n",
      "mse: 3848902.6836439925\n",
      "r2_score: 76.3888 percentage\n",
      "\n",
      "------------------------------\n",
      "\n"
     ]
    }
   ],
   "source": [
    "#Training Multiple Models\n",
    "models = {\n",
    "    \"ridge\" : ridge,\n",
    "    \"lasso\" : lasso,\n",
    "    \"elasticnet\" : elastic,\n",
    "}\n",
    "for model_name,model_evalation in models.items():\n",
    "    print(model_name)\n",
    "    model_evalation.fit(x_train,y_train)\n",
    "    y_pred = model_evalation .predict(x_test)\n",
    "    mae,mse,rmse,r2 = evalute_model(y_test,y_pred)\n",
    "    print(\"rmse:\",rmse)\n",
    "    print(\"mae:\",mae)\n",
    "    print(\"mse:\",mse)\n",
    "    print(\"r2_score:\",round(r2*100,4), \"percentage\")\n",
    "    print('\\n' + '-'*30 + '\\n')"
   ]
  },
  {
   "cell_type": "code",
   "execution_count": null,
   "metadata": {},
   "outputs": [],
   "source": []
  }
 ],
 "metadata": {
  "kernelspec": {
   "display_name": "myenv",
   "language": "python",
   "name": "python3"
  },
  "language_info": {
   "codemirror_mode": {
    "name": "ipython",
    "version": 3
   },
   "file_extension": ".py",
   "mimetype": "text/x-python",
   "name": "python",
   "nbconvert_exporter": "python",
   "pygments_lexer": "ipython3",
   "version": "3.12.5"
  }
 },
 "nbformat": 4,
 "nbformat_minor": 2
}
